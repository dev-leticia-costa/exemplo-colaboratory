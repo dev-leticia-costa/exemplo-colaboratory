{
  "cells": [
    {
      "cell_type": "markdown",
      "metadata": {
        "id": "view-in-github",
        "colab_type": "text"
      },
      "source": [
        "<a href=\"https://colab.research.google.com/github/dev-leticia-costa/exemplo-colaboratory/blob/main/Aula_2_Vari%C3%A1veis%2C_entradas_e_sa%C3%ADdas.ipynb\" target=\"_parent\"><img src=\"https://colab.research.google.com/assets/colab-badge.svg\" alt=\"Open In Colab\"/></a>"
      ]
    },
    {
      "cell_type": "markdown",
      "source": [
        "# Aula 1 - Introdução\n",
        "\n",
        "Olá! Seja bem-vindo ao curso de lógica de programação com linguagem Python! Vamos repassar algumas orientações iniciais para otimizar o seu uso deste material.\n",
        "\n",
        "\n",
        "## 1. Onde programar em Python?\n",
        "\n",
        "O Python é uma linguagem interpretada. Isso significa que é necessário termos um **interpretador** Python instalado em nosso computador para poder executar nossos programas.\n",
        "\n",
        "Além disso, é importante termos um programa que permita a edição dos códigos. Tecnicamente, qualquer editor de textos puro serviria, incluindo o Bloco de Notas do Windows. Mas programadores normalmente preferem utilizar uma **IDE** (_Integrated Development Environment_), que oferecerá uma série de recursos para facilitar ainda mais o nosso trabalho, como utilizar código de cores e formatação para deixar o código mais legível, ferramentas para autocompletar o código, ferramentas para procurar erros (_debuggers_ e _linters_), entre outros.\n",
        "\n",
        "Vamos passar brevemente por algumas diferentes opções que poderiam ser adotadas. Mas antes de iniciar a instalação de qualquer uma delas, verifique se o seu professor planejou o curso considerando alguma ferramenta específica.\n",
        "\n",
        "> Caso queira entender melhor como funciona o processo de interpretação do Python, [aqui](https://www.inf.pucrs.br/flash/progbio/aulas/seq/build/progbio/Python.html) está uma ótima referência!\n",
        "\n",
        "### 1.1. IDLE\n",
        "Ao baixar o interpretador Python no [site oficial](https://www.python.org/downloads/), ele irá trazer junto consigo um editor bastante simples, o IDLE.\n",
        "\n",
        "Ele possui poucos recursos comparado com as próximas IDEs que mencionaremos, mas já é um bom _quebra-galho_ caso você precise editar rapidamente um código.\n",
        "\n",
        "Caso seu professor tenha optado por trabalhar com a distribuição padrão do Python disponível no site oficial, procure baixar a versão mais recente disponível no site e lembre-se de marcar a opção \"_Add Python to PATH_\" durante a instalação. Isso evitará uma série de problemas na hora de instalar outros recursos e bibliotecas.\n",
        "\n",
        "### 1.2. Thonny\n",
        "O Thonny não é exatamente uma IDE profissional, utilizada no mercado. Seu foco é no aprendizado de Python. Ela oferece recursos especialmente úteis para quem ainda está aprendendo, como acompanhar o valor de variáveis e chamadas de função. Ela também é bastante leve.\n",
        "Ela pode ser obtida gratuitamente no [site do projeto](https://thonny.org/).\n",
        "\n",
        "### 1.3. Visual Studio Code\n",
        "O Visual Studio Code é uma IDE gratuita da Microsoft. Seu grande charme é a possibilidade de ter seus recursos expandidos através de extensões. Sendo assim, ele é, na prática, compatível com praticamente qualquer linguagem em uso atualmente, e é bastante fácil acrescentar novas ferramentas a ele. Ele também é bastante leve e fácil de ser configurado.\n",
        "\n",
        "Você pode fazer o download no [site oficial](https://code.visualstudio.com/download) e [configurá-lo](https://docs.microsoft.com/pt-br/learn/modules/python-install-vscode/) para suportar Python.\n",
        "\n",
        "### 1.4. PyCharm\n",
        "O PyCharm é uma IDE profissional fornecida pela JetBrains, responsável por diversas IDEs, como o IntelliJ, bastante popular entre desenvolvedores Java e Kotlin. Suas ferramentas são populares de maneira geral entre desenvolvedores web e mobile. O PyCharm possui alguns recursos para facilitar a integração com outros sistemas (em particular com linguagem JavaScript e SQL), e para gerenciar a instalação de bibliotecas, evitando que uma atualização de biblioteca em um projeto possa acidentalmente \"quebrar\" outro projeto. Em contrapartida, ela é mais pesada, o que pode atrapalhar a experiência de quem estiver utilizando computadores mais lentos.\n",
        "\n",
        "Sua versão _Community_ pode ser baixada gratuitamente no [site da JetBrains](https://www.jetbrains.com/pt-br/pycharm/download/).\n",
        "\n",
        "### 1.5. Anaconda e Jupyter Notebook\n",
        "O Anaconda é um pacote completo para análise de dados que já vem com uma versão especial do Python (o IPython, ou Interactive Python) pré-instalada, bem como diversas bibliotecas prontas extremamente populares na comunidade científica. Essas bibliotecas incluem uma infinidade de funções prontas para conexão com internet, computação matemática, computação científica, aprendizado de máquina, visualização de dados, conexão com banco de dados, entre outras.\n",
        "\n",
        "Uma das ferramentas inclusas no Anaconda é o Jupyter Notebook. O grande diferencial dele em relação a uma IDE convencional é o seu formato de \"caderno\", onde é possível intercalar trechos de códigos com anotações formatadas utilizando a linguagem Markdown.\n",
        "\n",
        "Ele é extremamente popular na análise de dados, pois é possível ir escrevendo pequenos trechos de código e já visualizando o resultado na forma de gráficos, tabelas e anotações.\n",
        "\n",
        "O Anaconda pode ser obtido gratuitamente em seu [site oficial](https://www.anaconda.com/) e já virá com o Jupyter instalado. Alternativamente, você pode seguir o tutorial no [blog da Let's Code](https://letscode.com.br/blog/introducao-ao-jupyter-notebook) para instalar apenas o Jupyter e dar os seus primeiros passos.\n",
        "\n",
        "> Tanto o Visual Studio Code quanto o PyCharm podem ser utilizados para abrir os _notebooks_. Inicie a instalação pelo Anaconda, e através do aplicativo Anaconda Navigator, busque a opção de abrir a IDE desejada e ele fará a mágica por você.\n",
        "\n",
        "### 1.6. Google Colab\n",
        "O Google possui o seu próprio _notebook_, compatível com Jupyter. Ele é 100% online e integrado com Google Drive. Você precisa estar logado com a sua conta Google e o seu trabalho será salvo em seu Drive.\n",
        "\n",
        "Ele pode ser acessado [aqui](https://colab.research.google.com/).\n",
        "\n",
        "### 1.7. Programando online\n",
        "Caso algum dia você se encontre sem o Python instalado em sua máquina - por exemplo, o seu computador quebrou e você conseguiu outro emprestado em cima da hora da aula - não se preocupe. Não faltam opções para programar direto no navegador. Vejamos algumas opções:\n",
        "\n",
        "** [Repl.it](https://replit.com/languages/python3): uma IDE online bastante simples, com visualização da saída do código logo ao lado do editor.\n",
        "** [OnlineGDB](https://www.onlinegdb.com/): uma IDE online com suporte a múltiplas linguagens de programação diferentes. Não se esqueça de selecionar \"Python3\" no menu antes de começar os seus trabalhos.\n",
        "** [Jupyter](https://jupyter.org/try-jupyter/retro/notebooks/?path=notebooks/Intro.ipynb): O Jupyter oferece uma área em seu site para você experimentá-lo sem precisar instalar. Ele será executado direto no seu navegador e possui acesso às bibliotecas padrão de ciência de dados.\n",
        "** [Google Colab](https://colab.research.google.com/): Já mencionado anteriormente, vale reforçar que ele é online e não exige qualquer instalação na sua máquina.\n",
        "\n",
        "## 2. Como estudar Python?\n",
        "Gostamos de dizer que o nome da nossa escola não é _Let's Talk_, e sim _Let's Code_. Participar das aulas é bastante importante, mas mais importante do que escutar o professor falar é programar.\n",
        "\n",
        "Sempre que você ver um código de exemplo nesse material, execute o código na sua IDE. Experimente com o código também: modifique, altere detalhes e veja o que acontece. E, claro, não deixe de fazer os exercícios propostos pelo professor. Eles foram planejados para sedimentar os novos conceitos recém-introduzidos e ajudar a consolidar e integrar os conceitos anteriores.\n",
        "\n",
        "> **DICA:** Quando for executar os exemplos, evite utilizar o famoso “copia e cola”. Ao invés disso, digite o código e aproveite para se familiarizar com a sintaxe da linguagem.\n",
        "\n",
        "Quando o seu código não funcionar, não desista, nem simplesmente copie de alguém que funcionou. Busque entender a mensagem de erro (caso haja alguma) e tente ler e entender o que o código está fazendo em cada passo. Caso não consiga resolver, busque o professor, um monitor ou mesmo um colega de turma com quem você se sinta à vontade e mostre seu código para que eles possam ajudar você a entender o seu erro.\n",
        "\n",
        "E quando você tiver uma ideia, não tenha medo de tentar implementá-la e ver o que acontece!\n",
        "\n",
        "## 3. Material extra e referências\n",
        "Caso você queira complementar seus estudos, há diversas opções baratas ou mesmo gratuitas. Citaremos alguns aqui que são bastante populares e serviram de base para o nosso material aqui.\n",
        "\n",
        "### Livros\n",
        "* **Pense em Python (2ª edição)** - Allen B. Downey: esse livro é bastante introdutório, e possui uma linguagem extremamente acessível. É ideal para quem está começando e usa vários exemplos em código. Ele é disponibilizado **gratuitamente** e pode ser [lido online](https://penseallen.github.io/PensePython2e/). A versão impressa pode ser comprada no site da [Editora Novatec](https://novatec.com.br/livros/pense-em-python/).\n",
        "\n",
        "\n",
        "* **Think Python (2nd edition)** - Allen B. Downey: é a versão original do livro acima. Quem tem facilidade com a língua inglesa pode preferir ler o original. Assim como na tradução, é possível [ler gratuitamente online](https://greenteapress.com/wp/think-python-2e/) ou adquirir a versão impressa no mesmo link.\n",
        "\n",
        "\n",
        "* **Python Basics (4th edition)** - RealPython.com: disponível apenas em inglês, é um livro escrito pela equipe que mantém o site RealPython.com. Esse livro é bastante introdutório, mirando estudantes iniciantes. Mas ele percorre uma variedade muito maior de tópicos que o Think Python, e acaba oferecendo mais aplicações.\n",
        "\n",
        "\n",
        "* **Python Tricks** - Dan Bader: disponível apenas em inglês, escrito por um dos editores do RealPython.com. Esse livro é um pouco mais avançado, e seria mais interessante para quem já chegou aqui sabendo Python ou então após a conclusão do módulo. Ele é um livro de aprofundamento, que irá ajudar quem já sabe o básico de Python a explorar mais a fundo os diferentes recursos que a linguagem oferece.\n",
        "\n",
        "\n",
        "* **Python Fluente** - Luciano Ramalho: assim como o livro anterior, ele é recomendável para quem já está confortável com a linguagem e gostaria de se aprofundar. Foi escrito por um brasileiro e possui traduções para diversas línguas. É uma leitura obrigatória para programadores Python experientes.\n",
        "\n",
        "\n",
        "* Toda a coleção do Al Sweigart: esse autor escreve diversos livros totalmente baseados em projetos e atividades. Eles são bem legais para complementar os estudos justamente pela oportunidade de ver tudo funcionando na prática. Seus livros são em inglês, mas estão **todos** disponíveis gratuitamente no próprio [site do autor](https://inventwithpython.com/), e assim como em outros casos, também podem ser comprados em versões impressas.\n",
        "\n",
        "### Sites\n",
        "* [Documentação Oficial do Python](https://docs.python.org/pt-br/3/): disponível em português, é ponto de parada obrigatório para todos os programadores. Ela explica detalhadamente todos os recursos da linguagem e possui uma referência bastante completa de todas as bibliotecas incluídas na linguagem.\n",
        "\n",
        "\n",
        "* [RealPython.com](https://realpython.com/): um site riquíssimo em cursos, artigos e tutoriais. Alguns são gratuitos, outros são pagos. Eles possuem um newsletter que envia dicas de Python regularmente por e-mail.\n",
        "\n",
        "\n",
        "* [StackOverflow](https://stackoverflow.com/): talvez você não tenha utilidade imediata para ele. Mas conforme você for programando e pesquisando erros, frequentemente cairá neste site. Ele é um site de perguntas e respostas sobre programação com filtros bastante eficientes para garantir a prevalência de perguntas relevantes e respostas corretas.\n",
        "  \n",
        "Ademais, há uma infinidade de blogs, tutoriais e vídeos, muitas vezes em sites com temáticas específicas (ex: análise de dados ou machine learning). Não deixe de pesquisar quando você tiver dúvidas específicas, você ficará surpreso com quanto material bom de Python existe gratuitamente por aí! :)"
      ],
      "metadata": {
        "id": "_q-uiangq1Gr"
      },
      "id": "_q-uiangq1Gr"
    },
    {
      "cell_type": "markdown",
      "id": "e85aac73",
      "metadata": {
        "id": "e85aac73"
      },
      "source": [
        "# Aula 2 - Variáveis, entradas e saídas\n",
        "## 1. Variáveis\n",
        "Em nossos programas, frequentemente precisaremos armazenar dados temporariamente. Esses dados podem ser adquiridos de alguma maneira (digitados pelo teclado, lidos de um arquivo etc.) ou calculados pelo nosso programa com base em outros dados. Imagine, por exemplo, que você gostaria de calcular a média de um aluno a partir de suas notas. Precisaremos que o aluno digite suas notas, e o programa irá calcular um novo valor, a média. Armazenaremos nossos dados temporariamente em **variáveis**.\n",
        "\n",
        "Variáveis são \"pedacinhos de memória\" onde guardamos dados. Sempre que referenciamos o nome, o pedacinho de memória é acessado e seu dado é recuperado.\n",
        "\n",
        "Criamos variáveis dando um nome a elas e usando o operador de atribuição (o sinal de igualdade: **=**) para atribuir um valor inicial.\n"
      ]
    },
    {
      "cell_type": "code",
      "execution_count": null,
      "id": "405bb910",
      "metadata": {
        "id": "405bb910"
      },
      "outputs": [],
      "source": [
        "x = 'Jorge'\n",
        "\n",
        "temperatura_atual = 25.4"
      ]
    },
    {
      "cell_type": "markdown",
      "id": "283cc8f5",
      "metadata": {
        "id": "283cc8f5"
      },
      "source": [
        "No exemplo acima, foi criada uma variável chamada **x** que guarda o valor **10**. Ou seja, reservamos um pedacinho de memória e guardamos o número 10 lá.\n",
        "\n",
        "Tente sempre utilizar nomes intuitivos para suas variáveis. O nome deveria ser uma boa descrição do dado que a variável guarda. Nomes como 'x', 'y', 'z', 'a', 'b', 'c', 'a1', 'a2', 'a3' etc. podem se tornar bastante confusos quando nossos códigos são muito grandes. Quanto mais descritivos os nomes forem, melhor.\n",
        "\n",
        "Os nomes de variáveis podem conter letras, números e o símbolo ```_```, mas eles não podem começar com número.\n",
        "\n",
        "> Dica: existe uma grande variedade de padrões diferentes que podemos adotar para nomear nossas variáveis. Em Python é recomendável utilizar o padrão conhecido como _snake case_, em que nomes de variáveis com múltiplas palavras adotam o símbolo ```_``` para separar as palavras. Exemplos: ```nome_completo```, ```nota_da_prova``` etc.\n",
        "\n",
        "## 2. Tipos de variáveis\n",
        "Variáveis podem ter diferentes tipos. Alguns tipos são considerados **tipos primitivos**, ou seja, eles são tipos de dados mais básicos que podem ser utilizados para compor outros tipos mais complexos. Em Python esses tipos levam os seguintes nomes:\n",
        "\n",
        "* **int**: números _inteiros_, ou seja, números sem parte decimal: 0, 5, -1, 1000\n",
        "* **float**: números _reais_, ou seja, números com parte decimal: 1.0, -2.7, 3.14\n",
        "* **str**: cadeias de _caracteres_ (_strings_), ou seja, dados textuais: 'Olá Mundo!', \"eu tenho 18 anos\"\n",
        "* **bool**: valores _lógicos_ (_booleanos_), ou seja, apenas um entre dois valores possíveis: _True_ ou _False_\n",
        "\n",
        "Em Python por meio da função type se recupera o tipo de dado. Nessa linguagem ( ao contrário do Java, por exemplo), você não precisa declarar o tipo.\n"
      ]
    },
    {
      "cell_type": "code",
      "execution_count": null,
      "id": "e8c8f2df",
      "metadata": {
        "id": "e8c8f2df"
      },
      "outputs": [],
      "source": [
        "nome = 'Jorge' # entre aspas = texto ou string\n",
        "\n",
        "idade = 24 # valor inteiro\n",
        "\n",
        "temperatura = 25.4 # valor float - usamos ponto, não vírgula\n",
        "\n",
        "vai_chover = False # uma variável bool"
      ]
    },
    {
      "cell_type": "code",
      "source": [
        "type(vai_chover)"
      ],
      "metadata": {
        "colab": {
          "base_uri": "https://localhost:8080/"
        },
        "id": "fqLcvOVAtVh6",
        "outputId": "f08787f2-bcf8-45ce-9165-dc51bb29c09a"
      },
      "id": "fqLcvOVAtVh6",
      "execution_count": null,
      "outputs": [
        {
          "output_type": "execute_result",
          "data": {
            "text/plain": [
              "bool"
            ]
          },
          "metadata": {},
          "execution_count": 4
        }
      ]
    },
    {
      "cell_type": "code",
      "source": [
        "import sys\n",
        "sys.getsizeof(vai_chover) # retorna quando espaço de memória está ocupando\n",
        "sys.getsizeof(idade)\n",
        "sys.getsizeof(temperatura)"
      ],
      "metadata": {
        "colab": {
          "base_uri": "https://localhost:8080/"
        },
        "id": "Z8_ZTuy6twBy",
        "outputId": "6bc79894-f4e8-4105-bdf7-8b1bb3ba315e"
      },
      "id": "Z8_ZTuy6twBy",
      "execution_count": null,
      "outputs": [
        {
          "output_type": "execute_result",
          "data": {
            "text/plain": [
              "24"
            ]
          },
          "metadata": {},
          "execution_count": 7
        }
      ]
    },
    {
      "cell_type": "code",
      "source": [
        "#transformar dado de um tipo para outro\n",
        "temperatura_int = int(temperatura)\n",
        "type(temperatura_int)"
      ],
      "metadata": {
        "colab": {
          "base_uri": "https://localhost:8080/"
        },
        "id": "DkP8hT-evDWq",
        "outputId": "3d3fe393-4d30-4aa8-ee19-11c8d84194eb"
      },
      "id": "DkP8hT-evDWq",
      "execution_count": null,
      "outputs": [
        {
          "output_type": "execute_result",
          "data": {
            "text/plain": [
              "int"
            ]
          },
          "metadata": {},
          "execution_count": 9
        }
      ]
    },
    {
      "cell_type": "code",
      "source": [
        "#tranformar false em valor numérico\n",
        "vai_chover_int = int(vai_chover)\n",
        "type(vai_chover_int)\n"
      ],
      "metadata": {
        "colab": {
          "base_uri": "https://localhost:8080/"
        },
        "id": "uCKhswBsvVD8",
        "outputId": "f329d464-1db1-492a-d422-91d3636266aa"
      },
      "id": "uCKhswBsvVD8",
      "execution_count": null,
      "outputs": [
        {
          "output_type": "stream",
          "name": "stdout",
          "text": [
            "0\n"
          ]
        }
      ]
    },
    {
      "cell_type": "code",
      "source": [
        "print(vai_chover_int)\n",
        "# print(!, vai_chover_int)\n",
        "\n",
        "# Suponha que você tenha a variável vai_chover_int com um valor inteiro, por exemplo:\n",
        "vai_chover_int = 0  # 0 significa \"não vai chover\"\n",
        "\n",
        "# Agora, você pode imprimir a variável com \"!\" para representar a negação:\n",
        "print(str(vai_chover_int) + \"!\")"
      ],
      "metadata": {
        "colab": {
          "base_uri": "https://localhost:8080/"
        },
        "id": "iOhc_CCmv7cJ",
        "outputId": "03382fb4-7f17-437f-c6c3-342c3158a6b4"
      },
      "id": "iOhc_CCmv7cJ",
      "execution_count": null,
      "outputs": [
        {
          "output_type": "stream",
          "name": "stdout",
          "text": [
            "0\n",
            "0!\n"
          ]
        }
      ]
    },
    {
      "cell_type": "markdown",
      "id": "8165eba6",
      "metadata": {
        "id": "8165eba6"
      },
      "source": [
        "O Python é uma linguagem **dinamicamente tipada**. Isso significa que não precisamos especificar o tipo de uma variável: a própria linguagem tenta determinar o tipo de acordo com o dado atribuído à variável.\n",
        "\n",
        "## 3. Comentários\n",
        "Note que nos exemplos acima, escrevemos textos no meio do código utilizando o símbolo **#**.\n",
        "Esses textos são **comentários**: quando utilizamos o símbolo **#**, o Python irá ignorar tudo o que vier em seguida (na mesma linha). Utilizamos comentários para explicar pedaços do nosso código para que nós mesmos ou outros colegas no futuro entendam o que fizemos e possam modificar ou corrigir o código com mais facilidade.\n",
        "Também podemos escrever comentários de múltiplas linhas utilizando aspas triplas - neste caso, as utilizamos para abrir e depois para fechar o bloco de comentários."
      ]
    },
    {
      "cell_type": "code",
      "execution_count": null,
      "id": "3621a9f1",
      "metadata": {
        "colab": {
          "base_uri": "https://localhost:8080/"
        },
        "id": "3621a9f1",
        "outputId": "a4ccdbeb-f8d8-4031-cfbf-2cacd68a4b96"
      },
      "outputs": [
        {
          "output_type": "stream",
          "name": "stdout",
          "text": [
            "\n",
            "Este é um comentário de várias linhas.\n",
            "Tudo que veio após o primeiro trio de aspas e antes do segundo\n",
            "será ignorado pelo Python.\n",
            "\n"
          ]
        }
      ],
      "source": [
        "'''\n",
        "Este é um comentário de várias linhas.\n",
        "Tudo que veio após o primeiro trio de aspas e antes do segundo\n",
        "será ignorado pelo Python.\n",
        "''' #serve como comentário, mas na verdade é uma string de várias linhas\n",
        "text = '''\n",
        "Este é um comentário de várias linhas.\n",
        "Tudo que veio após o primeiro trio de aspas e antes do segundo\n",
        "será ignorado pelo Python.\n",
        "'''\n",
        "print(text)"
      ]
    },
    {
      "cell_type": "code",
      "source": [
        "nome2= \"meu nome é 'Jorge'\"\n",
        "print(nome2) #diferença aspas simples e aspas duplas\n",
        "nome3= 'Jo\\'r\\t' #caracter especial\n",
        "print(nome3)\n",
        "\n",
        "#ctrl barra: transformar em comentário\n",
        "# temperatura_int = int(temperatura)\n",
        "# type(temperatura_int)\n"
      ],
      "metadata": {
        "colab": {
          "base_uri": "https://localhost:8080/"
        },
        "id": "75xjYIRD1Bog",
        "outputId": "bc53a60c-1770-4c78-9a1b-2838832dc151"
      },
      "id": "75xjYIRD1Bog",
      "execution_count": null,
      "outputs": [
        {
          "output_type": "stream",
          "name": "stdout",
          "text": [
            "meu nome é 'Jorge'\n",
            "Jo'r\t\n"
          ]
        }
      ]
    },
    {
      "cell_type": "markdown",
      "id": "f13abbf7",
      "metadata": {
        "id": "f13abbf7"
      },
      "source": [
        "Na verdade, esse tipo de comentário não é exatamente um comentário, mas uma string com múltiplas linhas. O Python enxerga que apenas \"declaramos\" uma string no meio do código, sem utilizá-la ou atribuí-la para qualquer variável, e por conta disso ela é ignorada, funcionando na prática como um comentário.\n",
        "\n",
        "> Na maioria das IDEs você possui teclas de atalho para facilmente transformar um bloco inteiro de código em comentário para temporariamente desabilitá-lo. Isso pode ser útil quando estamos testando soluções alternativas para um problema ou corrigindo erros. No Visual Studio Code, por exemplo, você pode utilizar ```ctrl+/``` para transformar uma seleção em comentário.\n",
        "\n",
        "\n",
        "## 4. Saídas\n",
        "\n",
        "Chamamos de **saídas** do nosso programa todos os dados que são gerados pelo programa e serão fornecidos para o usuário.\n",
        "A função de saída em tela no Python é o **print**. Colocamos entre parênteses o dado que queremos que apareça."
      ]
    },
    {
      "cell_type": "code",
      "execution_count": null,
      "id": "0cd7e56d",
      "metadata": {
        "colab": {
          "base_uri": "https://localhost:8080/"
        },
        "id": "0cd7e56d",
        "outputId": "e831313c-a225-4bcf-f94b-923020ce61fd"
      },
      "outputs": [
        {
          "output_type": "stream",
          "name": "stdout",
          "text": [
            "olá mundo!\n"
          ]
        }
      ],
      "source": [
        "print('olá mundo!') # exibe a frase 'olá mundo' na tela"
      ]
    },
    {
      "cell_type": "markdown",
      "id": "c28415af",
      "metadata": {
        "id": "c28415af"
      },
      "source": [
        "Os dados a serem exibidos não precisam ser valores constantes, como a frase fixa acima. Eles podem ser variáveis:"
      ]
    },
    {
      "cell_type": "code",
      "execution_count": null,
      "id": "a029dc86",
      "metadata": {
        "id": "a029dc86"
      },
      "outputs": [],
      "source": [
        "idade = 20\n",
        "print(idade)"
      ]
    },
    {
      "cell_type": "markdown",
      "id": "be4610fb",
      "metadata": {
        "id": "be4610fb"
      },
      "source": [
        "> Note que quando usamos aspas, o Python trata o valor como uma _string_, um texto literal. Quando não usamos aspas, o Python irá considerar que aquele é o nome de uma variável e irá acessá-la para buscar seu valor.\n",
        "\n",
        "Podemos exibir múltiplos dados em um **print**. Para isso, basta separá-los por vírgula e eles irão aparecer na tela na mesma ordem que apareceram no código:"
      ]
    },
    {
      "cell_type": "code",
      "execution_count": null,
      "id": "7ac68c5c",
      "metadata": {
        "id": "7ac68c5c"
      },
      "outputs": [],
      "source": [
        "nome = 'Jorge'\n",
        "linguagem = 'Python'\n",
        "print('Oi, eu sou o', nome, 'e eu programo em', linguagem)"
      ]
    },
    {
      "cell_type": "markdown",
      "id": "3596537d",
      "metadata": {
        "id": "3596537d"
      },
      "source": [
        "Note que os dados aparecem em tela separados por um espaço automaticamente. Dois prints sucessivos também possuem uma quebra de linha entre eles. Você pode passar as opções ```sep``` e ```end``` dentro de seu print para especificar diferentes comportamentos. Exemplo:\n"
      ]
    },
    {
      "cell_type": "code",
      "execution_count": null,
      "id": "23a0af42",
      "metadata": {
        "colab": {
          "base_uri": "https://localhost:8080/"
        },
        "id": "23a0af42",
        "outputId": "30428444-4eea-4106-e77b-e662e266187d"
      },
      "outputs": [
        {
          "output_type": "stream",
          "name": "stdout",
          "text": [
            "Oi, eu sou o@Jorge***Eu programo em@Python\n"
          ]
        }
      ],
      "source": [
        "nome = 'Jorge'\n",
        "linguagem = 'Python'\n",
        "print('Oi, eu sou o', nome, sep='@', end='***')\n",
        "print('Eu programo em', linguagem, sep='@')"
      ]
    },
    {
      "cell_type": "markdown",
      "id": "fcbe464b",
      "metadata": {
        "id": "fcbe464b"
      },
      "source": [
        "> Dica: caso você ache confuso separar os dados por vírgulas, você pode alternativamente utilizar uma _f-string_. Não entraremos em detalhes agora, mas o funcionamento básico é simples: coloque um _f_ antes de abrir aspas, e dentro do texto você pode colocar o nome das variáveis entre chaves. o ```print``` abaixo terá o mesmo resultado que o exemplo anterior:"
      ]
    },
    {
      "cell_type": "code",
      "execution_count": null,
      "id": "98fa1220",
      "metadata": {
        "id": "98fa1220"
      },
      "outputs": [],
      "source": [
        "print(f'Meu nome eh {nome} e tenho {idade} anos', end='!') # OK OK OK"
      ]
    },
    {
      "cell_type": "code",
      "source": [
        "print('Meu nome eh', nome, 'e tenho', idade,  'anos', end='!') # OK OK OK"
      ],
      "metadata": {
        "colab": {
          "base_uri": "https://localhost:8080/"
        },
        "id": "6V0MmEdj3ltD",
        "outputId": "a6a1b95e-d027-4bf7-e972-3f073564460c"
      },
      "id": "6V0MmEdj3ltD",
      "execution_count": null,
      "outputs": [
        {
          "output_type": "stream",
          "name": "stdout",
          "text": [
            "Meu nome eh Jorge e tenho 24 anos!"
          ]
        }
      ]
    },
    {
      "cell_type": "code",
      "source": [
        "print('Meu nome eh %s e tenho %d anos' %(nome, idade), end='!') # OK OK OK"
      ],
      "metadata": {
        "colab": {
          "base_uri": "https://localhost:8080/"
        },
        "id": "vYof3gYd31gj",
        "outputId": "c9ad9ce6-e4d3-4fe3-ca52-bbee6b94a3c2"
      },
      "id": "vYof3gYd31gj",
      "execution_count": null,
      "outputs": [
        {
          "output_type": "stream",
          "name": "stdout",
          "text": [
            "Meu nome eh Jorge e tenho 24 anos!"
          ]
        }
      ]
    },
    {
      "cell_type": "code",
      "source": [
        "print('Meu nome eh {0} e tenho {1} anos'.format(nome, idade), end='!') # OK OK OK"
      ],
      "metadata": {
        "colab": {
          "base_uri": "https://localhost:8080/"
        },
        "id": "rcQ8U7Kf4JDj",
        "outputId": "657efca2-18f5-4485-9a51-b7b27b90c6c4"
      },
      "id": "rcQ8U7Kf4JDj",
      "execution_count": null,
      "outputs": [
        {
          "output_type": "stream",
          "name": "stdout",
          "text": [
            "Meu nome eh Jorge e tenho 24 anos!"
          ]
        }
      ]
    },
    {
      "cell_type": "code",
      "source": [
        "#o print é uma construção da string, você pode fazer a variável do jeito já formatado\n",
        "variavel = f'Meu nome eh {nome} e tenho {idade} anos'\n",
        "print (variavel)"
      ],
      "metadata": {
        "colab": {
          "base_uri": "https://localhost:8080/"
        },
        "id": "Ign4N4xB4Z8y",
        "outputId": "23185fbc-688e-4e2d-b050-3dbbe7f4bba1"
      },
      "id": "Ign4N4xB4Z8y",
      "execution_count": null,
      "outputs": [
        {
          "output_type": "stream",
          "name": "stdout",
          "text": [
            "Meu nome eh Jorge e tenho 24 anos\n"
          ]
        }
      ]
    },
    {
      "cell_type": "markdown",
      "id": "8f7ac0a9",
      "metadata": {
        "id": "8f7ac0a9"
      },
      "source": [
        "## 5. Entradas\n",
        "Assim como temos dados de saída - dados gerados pelo código e fornecidos para o usuário - também temos dados de **entrada**: informações que o usuário possui e deve fornecer ao código.\n",
        "Para receber entradas pelo teclado, utilizaremos a função **input**. Devemos levar uma variável a receber o valor capturado pelo input."
      ]
    },
    {
      "cell_type": "code",
      "execution_count": null,
      "id": "66cd48ac",
      "metadata": {
        "tags": [],
        "id": "66cd48ac"
      },
      "outputs": [],
      "source": [
        "nome = input()\n",
        "\n",
        "print('Olá', nome, end='!!')"
      ]
    },
    {
      "cell_type": "markdown",
      "id": "77bbce07",
      "metadata": {
        "id": "77bbce07"
      },
      "source": [
        "O programa acima captura o nome do usuário e em seguida mostra a mensagem \"olá\" seguida do nome do usuário.\n",
        "Note que o programa fica parado em uma tela em branco com um cursor piscando aguardando a digitação pelo usuário. Isso pode ser confuso para o usuário, que não sabe o que o programa está esperando. Por isso, dentro dos parênteses do input podemos colocar uma mensagem simples informando o que o programa gostaria que ele fizesse:"
      ]
    },
    {
      "cell_type": "code",
      "execution_count": null,
      "id": "587fa997",
      "metadata": {
        "id": "587fa997"
      },
      "outputs": [],
      "source": [
        "nome = input('Me informe seu nome: ')\n",
        "\n",
        "idade = input('Me informe sua idade: ')\n",
        "\n",
        "print('Olá', nome, end='!!')"
      ]
    },
    {
      "cell_type": "markdown",
      "id": "967bb66c",
      "metadata": {
        "id": "967bb66c"
      },
      "source": [
        "### 5.1. Determinando o tipo da entrada\n",
        "Vamos imaginar um programa que informa quantos anos falta para que uma criança atinja a maioridade. Podemos ler a idade da criança pelo teclado (_entrada_), subtrair a idade do número 18 (_processamento_) e exibir o resultado da conta na tela (_saída_). Considere a solução abaixo:"
      ]
    },
    {
      "cell_type": "code",
      "execution_count": null,
      "id": "09524d61",
      "metadata": {
        "colab": {
          "base_uri": "https://localhost:8080/"
        },
        "id": "09524d61",
        "outputId": "2c9f28dd-4cd3-4ee4-e826-ef5aec792cac"
      },
      "outputs": [
        {
          "output_type": "stream",
          "name": "stdout",
          "text": [
            "Digite a sua idade: 5\n",
            "Faltam 45 para ter 50 anos.\n"
          ]
        }
      ],
      "source": [
        "# Objetivo: Informar para o usuario quanto anos faltam para ele ter 50\n",
        "\n",
        "idade = input('Digite a sua idade: ')\n",
        "\n",
        "resto = 50 - int(idade)\n",
        "\n",
        "print('Faltam', resto, 'para ter 50 anos.')"
      ]
    },
    {
      "cell_type": "markdown",
      "id": "7c9e26ab",
      "metadata": {
        "id": "7c9e26ab"
      },
      "source": [
        "Se você copiar e executar o programa, ele dará erro na segunda linha. Isso ocorre porque o teclado é uma \"máquina de escrever\" um pouco mais moderna. Portanto, tudo que entra pelo teclado é considerado pelo Python como texto (ou seja, _str_). Porém, não podemos \"fazer contas\" com textos. Fazemos contas com números. Portanto, neste caso, precisamos falar para o Python interpretar a nossa entrada como um número. Um bom tipo de dado para \"idade\" seria um número inteiro. Fazemos isso colocando o nome do tipo desejado, e entre parênteses colocamos nosso input:"
      ]
    },
    {
      "cell_type": "code",
      "execution_count": null,
      "id": "27f87bdd",
      "metadata": {
        "id": "27f87bdd"
      },
      "outputs": [],
      "source": [
        "idade = input('Digite a sua idade: ')\n",
        "\n",
        "resto = 50 - int(idade)\n",
        "\n",
        "print('Faltam', resto, 'para ter 50 anos.')"
      ]
    },
    {
      "cell_type": "code",
      "source": [
        "#transformar float para inteiro : vai ter uma diferença de espaço que vai ser perdida\n",
        "temperatura = 24.54424\n",
        "print(int(temperatura))"
      ],
      "metadata": {
        "colab": {
          "base_uri": "https://localhost:8080/"
        },
        "id": "zJnI_sxM6Gba",
        "outputId": "34980aef-d4c1-4d44-c6ef-158982297cda"
      },
      "id": "zJnI_sxM6Gba",
      "execution_count": null,
      "outputs": [
        {
          "output_type": "stream",
          "name": "stdout",
          "text": [
            "24\n"
          ]
        }
      ]
    },
    {
      "cell_type": "markdown",
      "id": "b2cf2bc1",
      "metadata": {
        "id": "b2cf2bc1"
      },
      "source": [
        "Chamamos essa operação de **coerção de tipo**. Em materiais em inglês você verá essa operação com o nome *casting*. Tome cuidado: operações de coerção podem resultar em perdas de dados. Se você converter o número float 3.9 para int, ele **não** arredondará para 4, e sim descartará a parte fracionária, resultando em 3.\n",
        "\n",
        "> Neste início, mensagens de erro podem parecer intimidadoras. Elas aparecem em vermelho e frequentemente possuem nomes técnicos e expressões em inglês. Mas crie o hábito de tentar compreendê-las. A partir da versão 3.10 do Python elas se tornaram significativamente mais amigáveis. Elas também indicam a linha com erro. Além disso, se você pesquisar em sites de busca por uma mensagem de erro, provavelmente encontrará diversos exemplos e explicações do que pode tê-la provocado e como consertar!\n",
        "\n",
        "## 6. Expressões aritméticas\n",
        "Como podemos observar no exemplo anterior, o Python faz operações aritméticas de maneira bastante intuitiva, similar ao que estamos acostumados.\n",
        "Os operadores aceitos são:\n",
        "* Soma: **+**\n",
        "* Subtração: **-**\n",
        "* Multiplicação: **\\***\n",
        "* Divisão: **/**\n",
        "* Divisão inteira: **//**\n",
        "* Resto da divisão: **%**\n",
        "* Potência: **\\*\\***"
      ]
    },
    {
      "cell_type": "code",
      "execution_count": null,
      "id": "1ae58cba",
      "metadata": {
        "scrolled": true,
        "colab": {
          "base_uri": "https://localhost:8080/"
        },
        "id": "1ae58cba",
        "outputId": "307cf623-20aa-46eb-f072-6f193f6d9c1c"
      },
      "outputs": [
        {
          "output_type": "execute_result",
          "data": {
            "text/plain": [
              "int"
            ]
          },
          "metadata": {},
          "execution_count": 34
        }
      ],
      "source": [
        "#divisao sempre identifica como float\n",
        "variavel1 = 50\n",
        "variavel2 = 20\n",
        "resultado = variavel1/variavel2\n",
        "type(resultado)\n",
        "\n",
        "#para divisão inteira = //\n",
        "variavel1 = 50\n",
        "variavel2 = 20\n",
        "resultado = variavel1//variavel2\n",
        "type(resultado)\n"
      ]
    },
    {
      "cell_type": "code",
      "source": [
        "#resto da divisão: inteiro\n",
        "variavel1 = 45\n",
        "variavel2 = 20\n",
        "resultado = variavel1 % variavel2\n",
        "print(resultado)"
      ],
      "metadata": {
        "colab": {
          "base_uri": "https://localhost:8080/"
        },
        "id": "M15A-zTD7Rf3",
        "outputId": "8932cfb9-5a07-4f35-9343-f45151a02a17"
      },
      "id": "M15A-zTD7Rf3",
      "execution_count": null,
      "outputs": [
        {
          "output_type": "stream",
          "name": "stdout",
          "text": [
            "5\n"
          ]
        }
      ]
    },
    {
      "cell_type": "code",
      "source": [
        "valor_informado = 12\n",
        "#identificar se é par ou ímpar\n",
        "print(valor_informado % 2) #se nao tiver resto resto = 0 -> par, se for 1 -> impar"
      ],
      "metadata": {
        "colab": {
          "base_uri": "https://localhost:8080/"
        },
        "id": "ZUhX3BE47kCy",
        "outputId": "d0181fe1-dc54-4a10-8ec3-c6b9337c3fef"
      },
      "id": "ZUhX3BE47kCy",
      "execution_count": null,
      "outputs": [
        {
          "output_type": "stream",
          "name": "stdout",
          "text": [
            "0\n"
          ]
        }
      ]
    },
    {
      "cell_type": "code",
      "source": [
        "valor_informado = 13\n",
        "#identificar se é par ou ímpar\n",
        "print(valor_informado % 2) #se nao tiver resto resto = 0 -> par, se for 1 -> impar"
      ],
      "metadata": {
        "colab": {
          "base_uri": "https://localhost:8080/"
        },
        "id": "zjHa6Y6g781q",
        "outputId": "2e834e5b-e18d-4d09-dc3d-cd678dd88d77"
      },
      "id": "zjHa6Y6g781q",
      "execution_count": null,
      "outputs": [
        {
          "output_type": "stream",
          "name": "stdout",
          "text": [
            "1\n"
          ]
        }
      ]
    },
    {
      "cell_type": "code",
      "source": [
        "#raiz quadrada é número potência ** 0.5\n",
        "variavel1 = 64\n",
        "\n",
        "resultado = variavel1  ** 0.5\n",
        "print(resultado)\n"
      ],
      "metadata": {
        "colab": {
          "base_uri": "https://localhost:8080/"
        },
        "id": "ZnHYHfUU8Jbg",
        "outputId": "e1d0dbc0-fbe5-4dcb-fbc7-f5fee7086088"
      },
      "id": "ZnHYHfUU8Jbg",
      "execution_count": null,
      "outputs": [
        {
          "output_type": "stream",
          "name": "stdout",
          "text": [
            "8.0\n"
          ]
        }
      ]
    },
    {
      "cell_type": "markdown",
      "id": "46205572",
      "metadata": {
        "id": "46205572"
      },
      "source": [
        "**Operadores de divisão**: Note que temos 3 operadores de divisão. O que seria cada um deles? Vamos supor que numero1 seja 15 e numero2 seja 6.\n",
        "```\n",
        " 15 |__ 6\n",
        "```\n",
        "Quantas vezes o número 6 cabe dentro do 15? Um bom primeiro \"chute\" é 2:\n",
        "\n",
        "```\n",
        " 15 |__ 6\n",
        "     2\n",
        "```\n",
        "\n",
        "Podemos multiplicar 6 por 2, que dará 12. E então subtraímos esse valor de 15:\n",
        "```\n",
        " 15 |__ 6\n",
        "-12     2\n",
        "---\n",
        " 03\n",
        "```\n",
        "\n",
        "Note que, considerando apenas números inteiros, não conseguimos mais prosseguir com a divisão. Neste caso, a **divisão inteira** (```numero1 // numero2```) dará 2. Já o **resto da divisão** (```numero1 % numero2```) dará 3.\n",
        "\n",
        "Porém, considerando casas decimais é possível prosseguir com a divisão:\n",
        "```\n",
        " 15 |__ 6\n",
        "-12     2.5\n",
        "---\n",
        " 03\n",
        "  30\n",
        "- 30\n",
        "----\n",
        "   0\n",
        "```\n",
        "\n",
        "Portanto, a **divisão** real (```numero1 / numero2```) dará 2.5.\n",
        "\n",
        "> **Atenção:** números reais em Python usam ponto para separar as casas decimais, não vírgula:\n",
        ">  - **Errado:** 2,5\n",
        ">  - **Correto:** 2.5"
      ]
    },
    {
      "cell_type": "code",
      "source": [
        "#soma de string -> concatenação\n",
        "variavel1 = '45'\n",
        "variavel2 = 20\n",
        "resultado = variavel1 + variavel2\n",
        "print(resultado)\n"
      ],
      "metadata": {
        "colab": {
          "base_uri": "https://localhost:8080/",
          "height": 227
        },
        "id": "4WiwRfI38jd6",
        "outputId": "cd707190-820b-4264-ef23-87924d3eb106"
      },
      "id": "4WiwRfI38jd6",
      "execution_count": null,
      "outputs": [
        {
          "output_type": "error",
          "ename": "TypeError",
          "evalue": "ignored",
          "traceback": [
            "\u001b[0;31m---------------------------------------------------------------------------\u001b[0m",
            "\u001b[0;31mTypeError\u001b[0m                                 Traceback (most recent call last)",
            "\u001b[0;32m<ipython-input-42-680c03ec50df>\u001b[0m in \u001b[0;36m<cell line: 4>\u001b[0;34m()\u001b[0m\n\u001b[1;32m      2\u001b[0m \u001b[0mvariavel1\u001b[0m \u001b[0;34m=\u001b[0m \u001b[0;34m'45'\u001b[0m\u001b[0;34m\u001b[0m\u001b[0;34m\u001b[0m\u001b[0m\n\u001b[1;32m      3\u001b[0m \u001b[0mvariavel2\u001b[0m \u001b[0;34m=\u001b[0m \u001b[0;36m20\u001b[0m\u001b[0;34m\u001b[0m\u001b[0;34m\u001b[0m\u001b[0m\n\u001b[0;32m----> 4\u001b[0;31m \u001b[0mresultado\u001b[0m \u001b[0;34m=\u001b[0m \u001b[0mvariavel1\u001b[0m \u001b[0;34m+\u001b[0m \u001b[0mvariavel2\u001b[0m\u001b[0;34m\u001b[0m\u001b[0;34m\u001b[0m\u001b[0m\n\u001b[0m\u001b[1;32m      5\u001b[0m \u001b[0mprint\u001b[0m\u001b[0;34m(\u001b[0m\u001b[0mresultado\u001b[0m\u001b[0;34m)\u001b[0m\u001b[0;34m\u001b[0m\u001b[0;34m\u001b[0m\u001b[0m\n",
            "\u001b[0;31mTypeError\u001b[0m: can only concatenate str (not \"int\") to str"
          ]
        }
      ]
    },
    {
      "cell_type": "code",
      "source": [
        "#soma de string -> concatenação\n",
        "variavel1 = '45'\n",
        "variavel2 = 20\n",
        "resultado = variavel1 + str(variavel2)\n",
        "print(resultado)"
      ],
      "metadata": {
        "colab": {
          "base_uri": "https://localhost:8080/"
        },
        "id": "fbcYAqVy9Xbm",
        "outputId": "b3c73bac-4119-4de3-fc71-50ee0442ce73"
      },
      "id": "fbcYAqVy9Xbm",
      "execution_count": null,
      "outputs": [
        {
          "output_type": "stream",
          "name": "stdout",
          "text": [
            "4520\n"
          ]
        }
      ]
    },
    {
      "cell_type": "code",
      "source": [
        "#soma de string + boleano -> concatenação\n",
        "variavel1 = 'Jorge'\n",
        "variavel2 = False\n",
        "resultado = variavel1 + str(variavel2)\n",
        "print(resultado)"
      ],
      "metadata": {
        "colab": {
          "base_uri": "https://localhost:8080/"
        },
        "id": "xvCEBuqD9dAl",
        "outputId": "e00e75e4-0c28-4278-810a-7a06462ff346"
      },
      "id": "xvCEBuqD9dAl",
      "execution_count": null,
      "outputs": [
        {
          "output_type": "stream",
          "name": "stdout",
          "text": [
            "JorgeFalse\n"
          ]
        }
      ]
    },
    {
      "cell_type": "code",
      "source": [
        "#soma de inteiro + booleano -> concatenação\n",
        "variavel1 = 23\n",
        "variavel2 = True\n",
        "resultado = variavel1 + variavel2\n",
        "print(resultado)\n",
        "\n",
        "#True = 1 - False = 0"
      ],
      "metadata": {
        "colab": {
          "base_uri": "https://localhost:8080/"
        },
        "id": "k7U4U7df9mbn",
        "outputId": "8e17e27c-c900-44b9-d282-dc341ff1487e"
      },
      "id": "k7U4U7df9mbn",
      "execution_count": null,
      "outputs": [
        {
          "output_type": "stream",
          "name": "stdout",
          "text": [
            "24\n"
          ]
        }
      ]
    },
    {
      "cell_type": "code",
      "source": [
        "variavel3 = '12345'\n",
        "variavel4 = 2\n",
        "print(variavel1 + variavel2)\n"
      ],
      "metadata": {
        "colab": {
          "base_uri": "https://localhost:8080/",
          "height": 210
        },
        "id": "yWVFrPBo96xH",
        "outputId": "7234bf18-fc4d-47ec-fdbe-baf42be119b6"
      },
      "id": "yWVFrPBo96xH",
      "execution_count": null,
      "outputs": [
        {
          "output_type": "error",
          "ename": "TypeError",
          "evalue": "ignored",
          "traceback": [
            "\u001b[0;31m---------------------------------------------------------------------------\u001b[0m",
            "\u001b[0;31mTypeError\u001b[0m                                 Traceback (most recent call last)",
            "\u001b[0;32m<ipython-input-54-08b67dee5cca>\u001b[0m in \u001b[0;36m<cell line: 3>\u001b[0;34m()\u001b[0m\n\u001b[1;32m      1\u001b[0m \u001b[0mvariavel3\u001b[0m \u001b[0;34m=\u001b[0m \u001b[0;34m'12345'\u001b[0m\u001b[0;34m\u001b[0m\u001b[0;34m\u001b[0m\u001b[0m\n\u001b[1;32m      2\u001b[0m \u001b[0mvariavel4\u001b[0m \u001b[0;34m=\u001b[0m \u001b[0;36m2\u001b[0m\u001b[0;34m\u001b[0m\u001b[0;34m\u001b[0m\u001b[0m\n\u001b[0;32m----> 3\u001b[0;31m \u001b[0mprint\u001b[0m\u001b[0;34m(\u001b[0m\u001b[0mvariavel1\u001b[0m \u001b[0;34m+\u001b[0m \u001b[0mvariavel2\u001b[0m\u001b[0;34m)\u001b[0m\u001b[0;34m\u001b[0m\u001b[0;34m\u001b[0m\u001b[0m\n\u001b[0m",
            "\u001b[0;31mTypeError\u001b[0m: can only concatenate str (not \"int\") to str"
          ]
        }
      ]
    },
    {
      "cell_type": "markdown",
      "id": "2023f5df",
      "metadata": {
        "id": "2023f5df"
      },
      "source": [
        "## Exercícios\n",
        "\n",
        "1. Suponha que o preço de capa de um livro seja R\\\\$ 24,95, mas as livrarias recebem um desconto de 40\\%. O transporte custa R\\\\$ 3,00 para o primeiro exemplar e 75 centavos para cada exemplar adicional. Qual é o custo total de atacado para 60 cópias?"
      ]
    },
    {
      "cell_type": "code",
      "execution_count": null,
      "id": "2f9c9aa0",
      "metadata": {
        "colab": {
          "base_uri": "https://localhost:8080/"
        },
        "id": "2f9c9aa0",
        "outputId": "c21c92b1-de05-4cf1-e1fb-06f622fdbf38"
      },
      "outputs": [
        {
          "output_type": "stream",
          "name": "stdout",
          "text": [
            "Digite a quantidade de  cópias: 60\n",
            "14.969999999999999\n",
            "674.3924999999999\n"
          ]
        }
      ],
      "source": [
        "# preco_com_desconto = 24.95 * 0.60\n",
        "# quantidade = int(input('Digite a quantidade de  cópias: '))\n",
        "# # custo_primeiro_exemplar = int(3.00)  # em reais\n",
        "# custo_exemplar_adicional = 0.75\n",
        "# # custo_transporte = custo_primeiro_exemplar + (quantidade - 1) * custo_exemplar_adicional\n",
        "\n",
        "# print(preco_com_desconto)\n",
        "\n",
        "# if quantidade == 1 :\n",
        "\n",
        "#    custo_transporte = (preco_com_desconto - 3)\n",
        "\n",
        "# elif quantidade >= 2 :\n",
        "#  custo_transporte_segunda_unidade =   float((preco_com_desconto * 0.75) *( quantidade -1 ) )\n",
        "\n",
        "#  custo_transporte = (preco_com_desconto - 3.0)  + custo_transporte_segunda_unidade\n",
        "\n",
        "\n",
        "# print(custo_transporte)\n",
        "\n",
        "# #926.25 14.97*59\n",
        "\n"
      ]
    },
    {
      "cell_type": "code",
      "source": [
        "# Definir as variáveis: o preço de capa do livro, o desconto e o número de cópias\n",
        "preco_de_capa = 24.95  # em reais\n",
        "desconto = 0.40  # 40%\n",
        "numero_de_copias = 60\n",
        "# custo_primeiro_exemplar = 3.00  # em reais\n",
        "# custo_exemplar_adicional = 0.75  # em reais por exemplar adicional\n",
        "\n",
        "# Calcule o custo do livro com desconto\n",
        "valor_livro_desconto = preco_de_capa - (preco_de_capa * desconto )\n",
        "\n",
        "# Calcule o custo total de transporte para o primeiro livro e para os demais\n",
        "\n",
        "custo_total = 1 * (valor_livro_desconto + 3) + 59 * (valor_livro_desconto + 0.75)\n",
        "\n",
        "# Imprima o custo total de atacado\n",
        "# print(\"O custo total de atacado para 60 cópias é R$ {:.2f}\".format(custo_total))\n",
        "print(f\"O custo total de atacado para 60 cópias é {round(custo_total, 2)} reais\")\n"
      ],
      "metadata": {
        "colab": {
          "base_uri": "https://localhost:8080/"
        },
        "id": "4sqRTxHfG_mj",
        "outputId": "f26091bf-d6dc-409e-81ec-591c160adc94"
      },
      "id": "4sqRTxHfG_mj",
      "execution_count": null,
      "outputs": [
        {
          "output_type": "stream",
          "name": "stdout",
          "text": [
            "O custo total de atacado para 60 cópias é 945.45 reais\n"
          ]
        }
      ]
    },
    {
      "cell_type": "code",
      "source": [
        "preco_capa = 24.95\n",
        "qtd_uni = int(input('Digite a quantidade de  cópias: '))\n",
        "custo = (qtd_uni*preco_capa  + 0.75*qtd_uni + 2.25)* 0.6\n",
        "\n",
        "custo = (qtd_uni*preco_capa  + 0.75*(qtd_uni-1)+3)* 0.6\n",
        "\n",
        "print(custo)"
      ],
      "metadata": {
        "colab": {
          "base_uri": "https://localhost:8080/"
        },
        "id": "pVOjBeOSErx1",
        "outputId": "a5685d6b-e256-49a5-c60f-e4872433bbfd"
      },
      "id": "pVOjBeOSErx1",
      "execution_count": null,
      "outputs": [
        {
          "output_type": "stream",
          "name": "stdout",
          "text": [
            "Digite a quantidade de  cópias: 60\n",
            "926.55\n"
          ]
        }
      ]
    },
    {
      "cell_type": "code",
      "source": [
        "preco_capa = 24.95 * 0.60\n",
        "qtd_uni = int(input('Digite a quantidade de  cópias: '))\n",
        "custo = (qtd_uni*preco_capa  + 0.75*qtd_uni + 2.25)\n",
        "\n",
        "custo = (qtd_uni*preco_capa  + 0.75*(qtd_uni-1)+3)\n",
        "\n",
        "print(custo)"
      ],
      "metadata": {
        "colab": {
          "base_uri": "https://localhost:8080/"
        },
        "id": "jkgnduZfMJrE",
        "outputId": "813b65c9-93ad-4f16-aba8-4fec6d3d4e8a"
      },
      "id": "jkgnduZfMJrE",
      "execution_count": null,
      "outputs": [
        {
          "output_type": "stream",
          "name": "stdout",
          "text": [
            "Digite a quantidade de  cópias: 60\n",
            "945.4499999999999\n"
          ]
        }
      ]
    },
    {
      "cell_type": "markdown",
      "id": "07dfc618",
      "metadata": {
        "id": "07dfc618"
      },
      "source": [
        "2. Se eu sair da minha casa às 6:52 e correr 1 quilômetro a um certo passo (8min15s por quilômetro), então 3 quilômetros a um passo mais rápido (7min12s por quilômetro) e 1 quilômetro no mesmo passo usado em primeiro lugar, que horas chego em casa para o café da manhã?"
      ]
    },
    {
      "cell_type": "code",
      "execution_count": null,
      "id": "560c237d",
      "metadata": {
        "id": "560c237d"
      },
      "outputs": [],
      "source": [
        "# variavel para armazenar hora, como fazer? Valor inteiro para representar a hora\n",
        "# 1 h = 3600 segundos\n",
        "#1 hora = 60 minutos - 6:52 minutos ->  6 *60 + 52 = 412 minutos -> 412 * 60 = 24.720 s\n",
        "hora_partida =  412 # 24.720 segundos\n",
        "#vendo o restante do problema, vemos que trabalharemos com segundos tambem\n",
        "# 1 min = 60 s\n",
        "\n",
        "passo_lento = 8 * 60 * 15 # 8:15\n",
        "passo_rapido = 7 * 60 + 12 # 7:12\n",
        "\n",
        "tempo_percurso = hora_partida + 1 * passo_lento + 3*passo_rapido + 1 *passo_lento\n",
        "\n",
        "# que horas chego em casa para o café da manhã?\n",
        "#numero -> H:m:s\n",
        "#3601 = 1h + 1s\n",
        "#3661 = 1h + 1m + 1s\n",
        "# 3599 = 3599 /1600 = 0.99\n",
        "#a lógica seria pegar apenas a parte inteira divisível por 3600\n",
        "\n",
        "tempo_horas = tempo_percurso/3600\n",
        "tempo_minutos = (tempo_horas % 60) # se utilizar % 1 -> resto da parte decimal. Nos precisamos pegar a parte decimal\n",
        "\n",
        "\n",
        "\n",
        "\n",
        "\n"
      ]
    },
    {
      "cell_type": "markdown",
      "id": "32976d1a",
      "metadata": {
        "id": "32976d1a"
      },
      "source": [
        "3. Escreva um programa que realize transformações de graus celsius a fahrenheit. O programa deve solicitar por teclado os graus celsius, e deve mostrar uma mensagem mostrando o valor equivalente em graus fahrenheit. A fórmula é:  \n",
        "$$\n",
        "    F = C * 1,8 + 32\n",
        "$$\n"
      ]
    },
    {
      "cell_type": "code",
      "execution_count": null,
      "id": "db7da243",
      "metadata": {
        "id": "db7da243"
      },
      "outputs": [],
      "source": []
    }
  ],
  "metadata": {
    "kernelspec": {
      "display_name": "Python 3 (ipykernel)",
      "language": "python",
      "name": "python3"
    },
    "language_info": {
      "codemirror_mode": {
        "name": "ipython",
        "version": 3
      },
      "file_extension": ".py",
      "mimetype": "text/x-python",
      "name": "python",
      "nbconvert_exporter": "python",
      "pygments_lexer": "ipython3",
      "version": "3.11.2"
    },
    "colab": {
      "provenance": [],
      "include_colab_link": true
    }
  },
  "nbformat": 4,
  "nbformat_minor": 5
}